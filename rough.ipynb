{
 "cells": [
  {
   "cell_type": "code",
   "execution_count": null,
   "id": "2cd5190b",
   "metadata": {},
   "outputs": [],
   "source": [
    "import json\n",
    "from typing import Union\n",
    "import os\n",
    "\n",
    "\n",
    "def get_config(key:str, application_name:str, default: Union[str, dict]=None):\n",
    "    \n",
    "    config_file = 'E:/OCR/aadhar_ocr/config/config.json'#os.getenv(\"CONFIG_FILE\")\n",
    "    if config_file is None:\n",
    "        pass\n",
    "\n",
    "    try:\n",
    "        with open(config_file,'r') as json_file:\n",
    "            config_json = json.load(json_file)\n",
    "            print(config_json)\n",
    "            applications = config_json.get('applications',[])\n",
    "            if application_name:\n",
    "                for application in applications:\n",
    "                    if application.get('application_name')==application_name:\n",
    "                        app_config = application.get(key, {})\n",
    "                        global_config = config_json.get(key, {})\n",
    "\n",
    "                        merged_conf = {**app_config, **global_config}\n",
    "                        return merged_conf\n",
    "            return config_json.get(key, default)\n",
    "    except Exception as e:\n",
    "        print(f'error parsing config:{e}')\n"
   ]
  },
  {
   "cell_type": "code",
   "execution_count": 8,
   "id": "8f7e5dca",
   "metadata": {},
   "outputs": [
    {
     "name": "stdout",
     "output_type": "stream",
     "text": [
      "E:/OCR/aadhar_ocr/config/config.json\n",
      "{'applications': [{'application_name': 'aadhar_ocr', 'use_gpu': True, 'languages': ['en'], 'valid_extensions': ['.jpg', '.jpeg', '.png', '.pdf'], 'aadhar_ocr': {'enable_address_parsing': True, 'enable_dob_parsing': True, 'enable_gender_parsing': True, 'iou_threshold': 0.3}}]}\n",
      "error parsing config:'bool' object is not a mapping\n"
     ]
    }
   ],
   "source": [
    "application_name = 'aadhar_ocr'\n",
    "if get_config(\"use_gpu\", application_name):\n",
    "    device = 'cuda'\n",
    "else:\n",
    "    device = 'cpu'"
   ]
  },
  {
   "cell_type": "code",
   "execution_count": 27,
   "id": "fde467df",
   "metadata": {},
   "outputs": [
    {
     "name": "stdout",
     "output_type": "stream",
     "text": [
      "{'success': True, 'ref_id': 'TEST001', 'data': {'Image_1': {'ocr_text': {'id_number': 'Nan', 'name_on_card': 'Vaghela Hiren Narendrabha', 'date_of_birth': '29/11/1999', 'gender': 'Male', 'address': 'Nan', 'pin_code': 'Nan', 'state': 'Nan', 'parent_name': 'Nan'}, 'confidence': {'name_on_card': 0.9636489152908325, 'date_of_birth': 0.9753857851028442, 'gender': 0.9985851049423218}, 'yolo_scores': {'name_on_card': 0.6902748942375183, 'date_of_birth': 0.6263912916183472, 'gender': 0.8014541864395142}, 'processing_time': 1.1478705406188965, 'yolo_time': 0.029809236526489258, 'ocr_time': 1.1180613040924072, 'image_name': 'aadhaar.jpg', 'page_count': 1, 'device': 'cuda'}}, 'error_message': None, 'processing_time': 0.0}\n"
     ]
    }
   ],
   "source": [
    "import requests\n",
    "\n",
    "url = \"http://localhost:8000/process-file\"\n",
    "files = {\"file\": (\"aadhaar.jpg\", open(\"E:/Chrome Downloads/Hiren_vaghela_documents/Hiren_Vaghela_photo_id.jpeg\", \"rb\"), \"image/jpeg\")}\n",
    "data = {\"ref_id\": \"TEST001\"}\n",
    "\n",
    "response = requests.post(url, files=files, data=data)\n",
    "print(response.json())"
   ]
  },
  {
   "cell_type": "code",
   "execution_count": 15,
   "id": "4ad2c040",
   "metadata": {},
   "outputs": [],
   "source": [
    "from pathlib import Path"
   ]
  },
  {
   "cell_type": "code",
   "execution_count": 22,
   "id": "62a391f7",
   "metadata": {},
   "outputs": [],
   "source": [
    "base_path ='E:\\OCR\\aadhar_ocr'\n",
    "import os"
   ]
  },
  {
   "cell_type": "code",
   "execution_count": 23,
   "id": "79f3920b",
   "metadata": {},
   "outputs": [
    {
     "name": "stdout",
     "output_type": "stream",
     "text": [
      "E:\\aadhar_ocr\\yolov5\n"
     ]
    }
   ],
   "source": [
    "print(os.path.join(base_path,Path('/aadhar_ocr/yolov5')))"
   ]
  },
  {
   "cell_type": "code",
   "execution_count": null,
   "id": "b8bad26c",
   "metadata": {},
   "outputs": [
    {
     "ename": "NameError",
     "evalue": "name '__file__' is not defined",
     "output_type": "error",
     "traceback": [
      "\u001b[1;31m---------------------------------------------------------------------------\u001b[0m",
      "\u001b[1;31mNameError\u001b[0m                                 Traceback (most recent call last)",
      "Cell \u001b[1;32mIn[19], line 1\u001b[0m\n\u001b[1;32m----> 1\u001b[0m Path(\u001b[38;5;18;43m__file__\u001b[39;49m)\u001b[38;5;241m.\u001b[39mparent\u001b[38;5;241m.\u001b[39mresolve()\n",
      "\u001b[1;31mNameError\u001b[0m: name '__file__' is not defined"
     ]
    }
   ],
   "source": []
  },
  {
   "cell_type": "code",
   "execution_count": null,
   "id": "c1444f50",
   "metadata": {},
   "outputs": [],
   "source": []
  }
 ],
 "metadata": {
  "kernelspec": {
   "display_name": "ocr",
   "language": "python",
   "name": "python3"
  },
  "language_info": {
   "codemirror_mode": {
    "name": "ipython",
    "version": 3
   },
   "file_extension": ".py",
   "mimetype": "text/x-python",
   "name": "python",
   "nbconvert_exporter": "python",
   "pygments_lexer": "ipython3",
   "version": "3.8.0"
  }
 },
 "nbformat": 4,
 "nbformat_minor": 5
}
